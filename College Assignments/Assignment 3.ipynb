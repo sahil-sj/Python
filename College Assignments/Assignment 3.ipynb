{
 "cells": [
  {
   "cell_type": "code",
   "execution_count": 1,
   "id": "83a9dc01",
   "metadata": {},
   "outputs": [
    {
     "name": "stdout",
     "output_type": "stream",
     "text": [
      "\n",
      "0\n",
      "01\n",
      "012\n",
      "0123\n",
      "01234"
     ]
    }
   ],
   "source": [
    "#7\n",
    " # Ist pattern\n",
    "    \n",
    "for i in range(1,6):\n",
    "    print(\"\")\n",
    "    for j in range(i):\n",
    "        print(j,end=\"\")\n",
    "    \n"
   ]
  },
  {
   "cell_type": "code",
   "execution_count": 2,
   "id": "8a7d90ea",
   "metadata": {},
   "outputs": [
    {
     "name": "stdout",
     "output_type": "stream",
     "text": [
      "\n",
      "01234\n",
      "0123\n",
      "012\n",
      "01\n",
      "0"
     ]
    }
   ],
   "source": [
    "# 2nd pattern \n",
    "for i in range(1,6):\n",
    "    print()\n",
    "    for j in range(6-i):\n",
    "        print(j,end=\"\")"
   ]
  },
  {
   "cell_type": "code",
   "execution_count": 3,
   "id": "b7fb86b8",
   "metadata": {},
   "outputs": [
    {
     "name": "stdout",
     "output_type": "stream",
     "text": [
      "\n",
      "    0\n",
      "   01\n",
      "  012\n",
      " 0123\n",
      "01234"
     ]
    }
   ],
   "source": [
    "#3rd pattern\n",
    "for i in range(1,6):\n",
    "    print()\n",
    "    for sp in range(5-i):\n",
    "        print(\" \",end=\"\")\n",
    "    for j in range(i):\n",
    "        print(j,end=\"\")"
   ]
  },
  {
   "cell_type": "code",
   "execution_count": 4,
   "id": "f8d005a7",
   "metadata": {},
   "outputs": [
    {
     "name": "stdout",
     "output_type": "stream",
     "text": [
      "Enter no : 657\n",
      "756\n"
     ]
    }
   ],
   "source": [
    "a=int(input(\"Enter no : \"))\n",
    "rev=0\n",
    "while(a>0):\n",
    "    d=a%10\n",
    "    rev=rev*10+d\n",
    "    a=a//10\n",
    "print(rev)"
   ]
  },
  {
   "cell_type": "code",
   "execution_count": 5,
   "id": "75c3ae13",
   "metadata": {},
   "outputs": [
    {
     "name": "stdout",
     "output_type": "stream",
     "text": [
      "\n",
      "01234\n",
      " 0123\n",
      "  012\n",
      "   01\n",
      "    0"
     ]
    }
   ],
   "source": [
    "#4th pattern\n",
    "for i in range(0,5):\n",
    "    print()\n",
    "    for sp in range(i):\n",
    "        print(\" \",end=\"\")\n",
    "    for j in range(5-i):\n",
    "        print(j,end=\"\")\n",
    "    "
   ]
  },
  {
   "cell_type": "code",
   "execution_count": 6,
   "id": "66f143f9",
   "metadata": {},
   "outputs": [
    {
     "name": "stdout",
     "output_type": "stream",
     "text": [
      "1 2 3 4 5 \n",
      "2 2 3 4 5 \n",
      "3 3 3 4 5 \n",
      "4 4 4 4 5 \n",
      "5 5 5 5 5 \n"
     ]
    }
   ],
   "source": [
    "#5th pattern\n",
    "for i in range(1,6):\n",
    "    for j in range(i):\n",
    "        print(i,end=\" \")\n",
    "    for ot in range(5-i):\n",
    "        print(ot+1+i,end=\" \")\n",
    "    print()\n",
    "    \n",
    "    "
   ]
  },
  {
   "cell_type": "code",
   "execution_count": 7,
   "id": "3c118418",
   "metadata": {},
   "outputs": [
    {
     "name": "stdout",
     "output_type": "stream",
     "text": [
      "1 \n",
      "2 4 \n",
      "3 6 9 \n",
      "4 8 12 16 \n",
      "5 10 15 20 25 \n"
     ]
    }
   ],
   "source": [
    "#6th\n",
    "for i in range(1,6):\n",
    "    for j in range(1,i+1):\n",
    "        print(i*j, end =\" \")\n",
    "    print()\n",
    "        \n",
    "        "
   ]
  },
  {
   "cell_type": "code",
   "execution_count": 26,
   "id": "05300b36",
   "metadata": {},
   "outputs": [
    {
     "name": "stdout",
     "output_type": "stream",
     "text": [
      "   *\n",
      "  ***\n",
      " *****\n",
      "*******\n",
      " ***\n",
      "  *****\n",
      "   *******\n"
     ]
    }
   ],
   "source": [
    "#7th\n",
    "for i in range(1,5):\n",
    "    for sp in range(4-i):\n",
    "        print(\" \",end=\"\")\n",
    "    for j in range(2*i-1):\n",
    "        print(\"*\",end=\"\")\n",
    "    print()\n",
    "for k in range(1,4):\n",
    "    for msp in range(k):\n",
    "        print(\" \",end=\"\")\n",
    "    for st in range(0,2*(k+1)+1):\n",
    "        print(\"*\",end=\"\")\n",
    "    print()\n",
    "        \n",
    "    \n",
    "        "
   ]
  },
  {
   "cell_type": "code",
   "execution_count": null,
   "id": "ce804847",
   "metadata": {},
   "outputs": [],
   "source": []
  },
  {
   "cell_type": "code",
   "execution_count": null,
   "id": "4690b51d",
   "metadata": {},
   "outputs": [],
   "source": []
  }
 ],
 "metadata": {
  "kernelspec": {
   "display_name": "Python 3 (ipykernel)",
   "language": "python",
   "name": "python3"
  },
  "language_info": {
   "codemirror_mode": {
    "name": "ipython",
    "version": 3
   },
   "file_extension": ".py",
   "mimetype": "text/x-python",
   "name": "python",
   "nbconvert_exporter": "python",
   "pygments_lexer": "ipython3",
   "version": "3.10.7"
  }
 },
 "nbformat": 4,
 "nbformat_minor": 5
}
