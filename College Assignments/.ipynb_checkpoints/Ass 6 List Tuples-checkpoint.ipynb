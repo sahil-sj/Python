{
 "cells": [
  {
   "cell_type": "code",
   "execution_count": 2,
   "id": "3a8d5252",
   "metadata": {},
   "outputs": [
    {
     "name": "stdout",
     "output_type": "stream",
     "text": [
      "List after interchanging first and last element is : \n",
      "[3, 3, 2, 8, 5]\n"
     ]
    }
   ],
   "source": [
    "#1 Python program to interchange first and last elements in a list\n",
    "l1=[5,3,2,8,3]\n",
    "print(\"List after interchanging first and last element is : \")\n",
    "(l1[0],l1[-1]) = (l1[-1],l1[0])\n",
    "print(l1)"
   ]
  },
  {
   "cell_type": "code",
   "execution_count": 8,
   "id": "d1aaf6ed",
   "metadata": {},
   "outputs": [
    {
     "name": "stdout",
     "output_type": "stream",
     "text": [
      "Enter position of first element that tou want to swap: 3\n",
      "Enter the position of second element that you want to swap: 6\n",
      "[4, 7, 3, 10, 6, 2, 2]\n"
     ]
    }
   ],
   "source": [
    "#2 Accept the positions of the elements and Python program to swap two elements in a list\n",
    "l1 = [4,7,3,2,6,2,10]\n",
    "x = int(input(\"Enter position of first element that tou want to swap: \"))\n",
    "y = int(input(\"Enter the position of second element that you want to swap: \"))\n",
    "if(x<len(l1) and y<len(l1)):\n",
    "    (l1[x],l1[y]) = (l1[y],l1[x])\n",
    "    print(l1)\n",
    "else:\n",
    "    print(\"Invalid Position\")"
   ]
  },
  {
   "cell_type": "code",
   "execution_count": 9,
   "id": "2b1a2081",
   "metadata": {},
   "outputs": [
    {
     "name": "stdout",
     "output_type": "stream",
     "text": [
      "Enter the element you want to find: 23\n",
      "Exists!\n"
     ]
    }
   ],
   "source": [
    "#3 Python program to check if an element exists in the list.\n",
    "l=[45,23,64,78,22]\n",
    "e=int(input(\"Enter the element you want to find: \"))\n",
    "if e in l:\n",
    "    print(\"Exists!\")\n",
    "else:\n",
    "    print(\"Not exists!\")"
   ]
  },
  {
   "cell_type": "code",
   "execution_count": 13,
   "id": "74fa30a8",
   "metadata": {},
   "outputs": [
    {
     "name": "stdout",
     "output_type": "stream",
     "text": [
      "The sum of elements of list is: \n",
      "68\n"
     ]
    }
   ],
   "source": [
    "#4 Python program to find the sum of elements in the list.\n",
    "l=[5,45,7,2,9]\n",
    "print(\"The sum of elements of list is: \")\n",
    "print(sum(l))"
   ]
  },
  {
   "cell_type": "code",
   "execution_count": 14,
   "id": "3909e1bf",
   "metadata": {},
   "outputs": [
    {
     "name": "stdout",
     "output_type": "stream",
     "text": [
      "Maximum element in list is:  87\n",
      "Minimum element in the list is : 23\n"
     ]
    }
   ],
   "source": [
    "#5 Python program to find the smallest and largest number in a list.\n",
    "l=[34,56,23,87,65,34,87]\n",
    "print(\"Maximum element in list is: \",max(l))\n",
    "print(\"Minimum element in the list is :\",min(l))"
   ]
  },
  {
   "cell_type": "code",
   "execution_count": 21,
   "id": "7f6af669",
   "metadata": {},
   "outputs": [
    {
     "name": "stdout",
     "output_type": "stream",
     "text": [
      "Second Maximum is:  78\n"
     ]
    }
   ],
   "source": [
    "#6 Python program to find the second largest number in a list.\n",
    "l=[34,23,89,56,32,78,89]\n",
    "l1=list(set(l))\n",
    "l1.sort()\n",
    "print(\"Second Maximum is: \",l1[-2])"
   ]
  },
  {
   "cell_type": "code",
   "execution_count": 25,
   "id": "dcb4b3ff",
   "metadata": {},
   "outputs": [
    {
     "name": "stdout",
     "output_type": "stream",
     "text": [
      "Enter no of largest elements you want to display: 6\n",
      "[78, 76, 67, 45, 25, 24]\n"
     ]
    }
   ],
   "source": [
    "#7 Python program to find N largest elements from a list.\n",
    "l=[45,23,67,24,78,45,76,25,9]\n",
    "n=int(input(\"Enter no of largest elements you want to display: \"))\n",
    "if(n<len(l)):\n",
    "    l1=list(set(l))\n",
    "    l1.sort()\n",
    "    print(l1[-1:-1*(n+1):-1])\n",
    "else:\n",
    "    print(\"Please enter value in the range!\")"
   ]
  },
  {
   "cell_type": "code",
   "execution_count": 30,
   "id": "a7160141",
   "metadata": {},
   "outputs": [
    {
     "name": "stdout",
     "output_type": "stream",
     "text": [
      "Enter no of even numbers you want to display: 10\n",
      "[2, 4, 6, 8, 10, 12, 14, 16, 18, 20]\n"
     ]
    }
   ],
   "source": [
    "#8 Python program to print even numbers in a list.\n",
    "n=int(input(\"Enter no of even numbers you want to display: \"))\n",
    "l=[i for i in range(1,2*n+1) if i%2==0]\n",
    "print(l)"
   ]
  },
  {
   "cell_type": "code",
   "execution_count": 32,
   "id": "800e8434",
   "metadata": {},
   "outputs": [
    {
     "name": "stdout",
     "output_type": "stream",
     "text": [
      "Enter no of odd numbers you want to display: 5\n",
      "[1, 3, 5, 7, 9]\n"
     ]
    }
   ],
   "source": [
    "#9 Python program to print odd numbers in a list.\n",
    "n=int(input(\"Enter no of odd numbers you want to display: \"))\n",
    "l=[i for i in range(1,2*n+1) if i%2!=0]\n",
    "print(l)"
   ]
  },
  {
   "cell_type": "code",
   "execution_count": 33,
   "id": "7baf86d4",
   "metadata": {},
   "outputs": [
    {
     "name": "stdout",
     "output_type": "stream",
     "text": [
      "The first three letters of list is: \n",
      "['a', 'b', 'c']\n",
      "The three letters from middle is: \n",
      "['e', 'f', 'g']\n"
     ]
    }
   ],
   "source": [
    "#10 Make a list of the first 10 letters of the alphabet,\n",
    "# then use the slicing to do the following operations:\n",
    "#  a. Print the first 3 letters of the list.\n",
    "#  b. Print any 3 letters from the middle.\n",
    "l = ['a','b','c','d','e','f','g','h','i','j']\n",
    "print(\"The first three letters of list is: \")\n",
    "print(l[0:3])\n",
    "print(\"The three letters from middle is: \")\n",
    "print(l[4:7])"
   ]
  },
  {
   "cell_type": "code",
   "execution_count": 34,
   "id": "3b991bc8",
   "metadata": {},
   "outputs": [
    {
     "name": "stdout",
     "output_type": "stream",
     "text": [
      "Sum is:  154\n"
     ]
    }
   ],
   "source": [
    "#11 Python program to find the Sum of all even elements in the existing tuple.\n",
    "t1=(3,7,45,65,34)\n",
    "l1=list(t1)\n",
    "print(\"Sum is: \",sum(l1))"
   ]
  },
  {
   "cell_type": "code",
   "execution_count": 35,
   "id": "7046dd18",
   "metadata": {},
   "outputs": [
    {
     "name": "stdout",
     "output_type": "stream",
     "text": [
      "Enter no of elements you want in first tuple: 5\n",
      "Enter no of elements you want in second tuple: 6\n",
      "Enter elements in first tuple: \n",
      "\n",
      "1\n",
      "2\n",
      "3\n",
      "4\n",
      "5\n",
      "First tuple is:  (1, 2, 3, 4, 5)\n",
      "6\n",
      "5\n",
      "4\n",
      "3\n",
      "2\n",
      "1\n",
      "Second tuple is:  (6, 5, 4, 3, 2, 1)\n",
      "All the combinations are: \n",
      "((1, 6), (1, 5), (1, 4), (1, 3), (1, 2), (1, 1), (2, 6), (2, 5), (2, 4), (2, 3), (2, 2), (2, 1), (3, 6), (3, 5), (3, 4), (3, 3), (3, 2), (3, 1), (4, 6), (4, 5), (4, 4), (4, 3), (4, 2), (4, 1), (5, 6), (5, 5), (5, 4), (5, 3), (5, 2), (5, 1))\n"
     ]
    }
   ],
   "source": [
    "#12 Python program to accept two tuples from the user and\n",
    "# display all combinations of all elements in the form of tuple.\n",
    "t1=[]\n",
    "t2=[]\n",
    "n=int(input(\"Enter no of elements you want in first tuple: \"))\n",
    "o=int(input(\"Enter no of elements you want in second tuple: \"))\n",
    "print(\"Enter elements in first tuple: \\n\")\n",
    "for i in range(n):\n",
    "    x=int(input())\n",
    "    t1.append(x)\n",
    "print(\"First tuple is: \",tuple(t1))\n",
    "for i in range(o):\n",
    "    x=int(input())\n",
    "    t2.append(x)\n",
    "print(\"Second tuple is: \",tuple(t2))\n",
    "print(\"All the combinations are: \")\n",
    "l1=[(t1[i],t2[j]) for i in range(len(t1)) for j in range(len(t2))]\n",
    "print(tuple(l1))"
   ]
  },
  {
   "cell_type": "code",
   "execution_count": 36,
   "id": "0b1503e4",
   "metadata": {},
   "outputs": [
    {
     "name": "stdout",
     "output_type": "stream",
     "text": [
      "Enter element you want to delete from tuple: 3\n",
      "(2, 5, 1, 9)\n"
     ]
    }
   ],
   "source": [
    "#13 Python program to find a particular element that exists or not;\n",
    "# if exists then delete an element from the given tuple.\n",
    "t1=(2,5,3,1,9)\n",
    "x=int(input(\"Enter element you want to delete from tuple: \"))\n",
    "l1=list(t1)\n",
    "if x in l1:\n",
    "    l1.remove(x)\n",
    "    print(tuple(l1))\n",
    "else:\n",
    "    print(\"Element not present in tuple.\")"
   ]
  }
 ],
 "metadata": {
  "kernelspec": {
   "display_name": "Python 3 (ipykernel)",
   "language": "python",
   "name": "python3"
  },
  "language_info": {
   "codemirror_mode": {
    "name": "ipython",
    "version": 3
   },
   "file_extension": ".py",
   "mimetype": "text/x-python",
   "name": "python",
   "nbconvert_exporter": "python",
   "pygments_lexer": "ipython3",
   "version": "3.10.4"
  }
 },
 "nbformat": 4,
 "nbformat_minor": 5
}
