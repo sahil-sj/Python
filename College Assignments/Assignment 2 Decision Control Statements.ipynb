{
 "cells": [
  {
   "cell_type": "code",
   "execution_count": 2,
   "id": "20f34fc4",
   "metadata": {},
   "outputs": [
    {
     "name": "stdout",
     "output_type": "stream",
     "text": [
      "Enter temperature in Fahrenheit: 98\n",
      "36.669599999999996\n"
     ]
    }
   ],
   "source": [
    "#1 Write a python program to accept a temperature in \n",
    "# Fahrenheit degree and convert it into Centigraide \n",
    "# degrees and print both temperatures.\n",
    "f=int(input(\"Enter temperature in Fahrenheit: \"))\n",
    "c=(f-32)*.5556\n",
    "print(c)"
   ]
  },
  {
   "cell_type": "code",
   "execution_count": 3,
   "id": "0ebf38ea",
   "metadata": {},
   "outputs": [
    {
     "name": "stdout",
     "output_type": "stream",
     "text": [
      "Enter no of Quantity you purchased2\n",
      "Enter price per item1500\n",
      "discounted price 2700.0\n"
     ]
    }
   ],
   "source": [
    "#2 A grocery shop decides to give its customers a \n",
    "# discount on the total purchases if it exceeds \n",
    "# Rs. 1000. The quantity purchased and price per \n",
    "# item is entered through a keyboard. Write a program \n",
    "# to calculate final sales bill.\n",
    "q=int(input(\"Enter no of Quantity you purchased\"))\n",
    "p=int(input(\"Enter price per item : \"))\n",
    "tp=p*q\n",
    "if(tp>1000):\n",
    "    tp-=tp*0.1\n",
    "print(\"discounted price\",tp)\n"
   ]
  },
  {
   "cell_type": "code",
   "execution_count": 4,
   "id": "95503743",
   "metadata": {},
   "outputs": [
    {
     "name": "stdout",
     "output_type": "stream",
     "text": [
      "married or unmarried: unmarried\n",
      "enter the age: 30\n",
      "male or female: male\n",
      "insured\n"
     ]
    }
   ],
   "source": [
    "#3 A company insures its drivers in the following cases:\n",
    "# •\tIf the driver is married.\n",
    "# •\tIf the driver is unmarried, male and above 30 years of age.\n",
    "# •\tIf the driver is unmarried, female and above 25 years of age.\n",
    "# •\tIn all other cases, the driver is not insured. If the martial \n",
    "# status, sex and age of the driver are the inputs.\n",
    "# Write a program to determine whether driver should be insured\n",
    "# or not.\n",
    "status=input(\"married or unmarried: \")\n",
    "if(status==\"married\" or status==\"Married\"):\n",
    "    print(\"Insured\")\n",
    "if(status==\"unmarried\" or status==\"Unmarried\"):\n",
    "    age=int(input(\"enter the age: \"))\n",
    "    sex=input(\"male or female: \")\n",
    "    if(sex==\"male\" or \"Male\" and age>30):\n",
    "        print(\"insured\")\n",
    "    elif(sex==\"female\" or \"Female\" and age>25):\n",
    "        print(\"insured\")\n",
    "else:\n",
    "    print(\"not insured\")"
   ]
  },
  {
   "cell_type": "code",
   "execution_count": 5,
   "id": "bf710a6b",
   "metadata": {},
   "outputs": [
    {
     "name": "stdout",
     "output_type": "stream",
     "text": [
      "enter the no: 5\n",
      "5 is odd no.\n"
     ]
    }
   ],
   "source": [
    "#4 Write a program to find out given number is odd or even.\n",
    "a=int(input(\"enter the no: \"))\n",
    "if(a%2):\n",
    "    print(f\"{a} is odd no.\")\n",
    "else:\n",
    "    print(f\"{a} is even no.\")"
   ]
  },
  {
   "cell_type": "code",
   "execution_count": 8,
   "id": "1b8af366",
   "metadata": {},
   "outputs": [
    {
     "name": "stdout",
     "output_type": "stream",
     "text": [
      "enter the no: 5\n",
      "enter the 2nd no: 10\n",
      "10 is greater\n"
     ]
    }
   ],
   "source": [
    "#5 Write a program to find out the greatest in two numbers using\n",
    "# if and conditional operator.\n",
    "a=int(input(\"enter the no: \"))\n",
    "b=int(input(\"enter the 2nd no: \"))\n",
    "print(\"f{a} is greater\") if(a>b) else print(f\"{b} is greater\")"
   ]
  },
  {
   "cell_type": "code",
   "execution_count": 7,
   "id": "5f04193b",
   "metadata": {},
   "outputs": [
    {
     "name": "stdout",
     "output_type": "stream",
     "text": [
      "enter the no: 7\n",
      "enter the 2nd no: 3\n",
      "7 is greater\n"
     ]
    }
   ],
   "source": [
    "#5\n",
    "a=int(input(\"enter the no: \"))\n",
    "b=int(input(\"enter the 2nd no: \"))\n",
    "if(a>b):\n",
    "    print(f\"{a} is greater\")\n",
    "else:\n",
    "    print(f\"{b} is greater\")"
   ]
  },
  {
   "cell_type": "code",
   "execution_count": 10,
   "id": "c3bd6a07",
   "metadata": {},
   "outputs": [
    {
     "name": "stdout",
     "output_type": "stream",
     "text": [
      "enter the no.5\n",
      "positive\n"
     ]
    }
   ],
   "source": [
    "#6 Accept a non-zero integer as input. Print positive\n",
    "# if it is greater than zero and negative if it is\n",
    "# less than zero.\n",
    "a=int(input(\"enter the no.\"))\n",
    "if(a>0):\n",
    "    print(\"positive\")\n",
    "elif(a<0):\n",
    "    print(\"negative\")\n",
    "else:\n",
    "    print(\"Please enter number greater than zero.\")"
   ]
  },
  {
   "cell_type": "code",
   "execution_count": null,
   "id": "edea890a",
   "metadata": {},
   "outputs": [],
   "source": [
    "#7 In a company a employee is paid as under:\n",
    "# •\tIf his basic salary is less than Rs. 1500, then HRA = 10%\n",
    "# of basic salary and DA=90% of basic salary.\n",
    "# •\tIf his salary is either equal to or above Rs.1500, then \n",
    "# HRA=Rs.500 and DA=98% of basic salary.\n",
    "# If the employee’s salary is input through the keyboard \n",
    "# write a program to find his gross salary.\n",
    "s=eval(input(\"Enter salary: \"))\n",
    "if(s<1500):\n",
    "    ts=s+0.1*s+0.9*s\n",
    "else:\n",
    "    ts=s+500+0.98*s\n",
    "print(\"Gross Salary is : \",ts)\n",
    "    \n"
   ]
  },
  {
   "cell_type": "code",
   "execution_count": 16,
   "id": "9ecc64eb",
   "metadata": {},
   "outputs": [
    {
     "name": "stdout",
     "output_type": "stream",
     "text": [
      "Enter percentage you obtained : 49.9\n",
      "Third Division\n"
     ]
    }
   ],
   "source": [
    "#8 Percentage marks obtained by a student are input through the keyboard. The student gets a division as per the following rules:\n",
    "# •\tPercentage above or equal to 60 - First Division\n",
    "# •\tPercentage between 50 and 59 - First Division\n",
    "# •\tPercentage between 40 and 49 - First Division\n",
    "# •\tPercentage less than 40 - Fail\n",
    "# Write a program to calculate the division obtained by a student.\n",
    "\n",
    "p=eval(input(\"Enter percentage you obtained : \"))\n",
    "if(p>=60):\n",
    "    print(\"First Division\")\n",
    "elif(p>=50):\n",
    "    print(\"Second Division\")\n",
    "elif(p>=40):\n",
    "    print(\"Third Division\")\n",
    "else:\n",
    "    print(\"Fail\")\n"
   ]
  },
  {
   "cell_type": "code",
   "execution_count": 12,
   "id": "22639597",
   "metadata": {},
   "outputs": [
    {
     "name": "stdout",
     "output_type": "stream",
     "text": [
      "Enter any number: -7\n",
      "-343\n"
     ]
    }
   ],
   "source": [
    "#9 Given a number n we wish to do the following:\n",
    "# •\tIf n is positive - print n*n, set a flag to true.\n",
    "# •\tIf n is negative – print n*n*n, set a flag to true.\n",
    "# •\tIf n is 0 – do nothing\n",
    "\n",
    "n=int(input(\"Enter any number: \"))\n",
    "flag=False\n",
    "if(n>0):\n",
    "    flag=True\n",
    "    print(f\"{n*n}\")\n",
    "elif(n<0):\n",
    "    flag=True\n",
    "    print(f\"{n**3}\")\n",
    "else:\n",
    "    flag=False\n"
   ]
  },
  {
   "cell_type": "code",
   "execution_count": 17,
   "id": "bc075daa",
   "metadata": {},
   "outputs": [
    {
     "name": "stdout",
     "output_type": "stream",
     "text": [
      "enter year year to check it is leap year or not: 100\n",
      "Not a Leap year\n"
     ]
    }
   ],
   "source": [
    "#10 Write a program to find out input year is leap year or not\n",
    "y=int(input(\"enter year year to check it is leap year or not: \"))\n",
    "if(y%4==0 and y%100!=0) or (y%400==0):\n",
    "    print(\"Leap Year\")\n",
    "else:\n",
    "    print(\"Not a Leap year\")\n",
    "    "
   ]
  },
  {
   "cell_type": "code",
   "execution_count": 13,
   "id": "494ab4db",
   "metadata": {},
   "outputs": [
    {
     "name": "stdout",
     "output_type": "stream",
     "text": [
      "Enter year to check for leap yeaar100\n",
      "100 is not leap year\n"
     ]
    }
   ],
   "source": [
    "#10 \n",
    "a=int(input(\"Enter year to check for leap yeaar\"))\n",
    "if(a%100!=0):\n",
    "    if(a%4==0):\n",
    "        print(f\"{a} is leap year\")\n",
    "elif(a%400==0):\n",
    "    print(f\"{a} is leap year\")\n",
    "else:\n",
    "    print(f\"{a} is not leap year\")\n"
   ]
  },
  {
   "cell_type": "code",
   "execution_count": null,
   "id": "84881fac",
   "metadata": {},
   "outputs": [],
   "source": []
  }
 ],
 "metadata": {
  "kernelspec": {
   "display_name": "Python 3 (ipykernel)",
   "language": "python",
   "name": "python3"
  },
  "language_info": {
   "codemirror_mode": {
    "name": "ipython",
    "version": 3
   },
   "file_extension": ".py",
   "mimetype": "text/x-python",
   "name": "python",
   "nbconvert_exporter": "python",
   "pygments_lexer": "ipython3",
   "version": "3.10.4"
  },
  "vscode": {
   "interpreter": {
    "hash": "fbc768028c3e6ead51d9a200ddcb2ec858ae62844dcd1994729a8279be9b48f2"
   }
  }
 },
 "nbformat": 4,
 "nbformat_minor": 5
}
