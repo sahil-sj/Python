{
 "cells": [
  {
   "cell_type": "code",
   "execution_count": 4,
   "id": "c7ae3e30",
   "metadata": {},
   "outputs": [
    {
     "name": "stdout",
     "output_type": "stream",
     "text": [
      "Maximum Value is :  98\n",
      "Minimum value is :  1\n"
     ]
    }
   ],
   "source": [
    "#1 Write a Python program to get the maximum and minimum value in a dictionary \n",
    "dict={\"Sahil\":1,\"Krishna\":7,\"Sharma\":98}\n",
    "x=max(dict.values())\n",
    "y=min(dict.values())\n",
    "print(\"Maximum Value is : \",x)\n",
    "print(\"Minimum value is : \",y)"
   ]
  },
  {
   "cell_type": "code",
   "execution_count": 6,
   "id": "31297a9d",
   "metadata": {},
   "outputs": [
    {
     "name": "stdout",
     "output_type": "stream",
     "text": [
      "Sum of items is :  131\n"
     ]
    }
   ],
   "source": [
    "#2 Write a Python program to sum all the items in a dictionary\n",
    "dict={\"a\":45,\"b\":32,\"c\":54}\n",
    "print(\"Sum of items is : \",sum(dict.values()))"
   ]
  },
  {
   "cell_type": "code",
   "execution_count": 8,
   "id": "39974266",
   "metadata": {},
   "outputs": [
    {
     "name": "stdout",
     "output_type": "stream",
     "text": [
      "{'Sahil': 1, 'Krishna': 7, 'Sharma': 98, 'a': 45, 'b': 32, 'c': 54}\n"
     ]
    }
   ],
   "source": [
    "#3 Write a Python program to merge two Python dictionaries.\n",
    "d1={\"Sahil\":1,\"Krishna\":7,\"Sharma\":98}\n",
    "d2={\"a\":45,\"b\":32,\"c\":54}\n",
    "d1.update(d2)\n",
    "print(d1)"
   ]
  },
  {
   "cell_type": "code",
   "execution_count": 14,
   "id": "56851239",
   "metadata": {},
   "outputs": [
    {
     "name": "stdout",
     "output_type": "stream",
     "text": [
      "Enter range: 15\n",
      "{2: 8, 4: 64, 6: 216, 8: 512, 10: 1000, 12: 1728, 14: 2744}\n"
     ]
    }
   ],
   "source": [
    "#4 Write a Python program to generate and print a dictionary that contains all\n",
    "#  even numbers (between 1 and n) in the form (x, x^3). \n",
    "n=int(input(\"Enter range: \"))\n",
    "d={i:i**3 for i in range(1,n+1) if i%2==0}\n",
    "print(d)"
   ]
  },
  {
   "cell_type": "code",
   "execution_count": 18,
   "id": "f6c498ef",
   "metadata": {},
   "outputs": [
    {
     "name": "stdout",
     "output_type": "stream",
     "text": [
      "Enter key that you want to delete: Sahil\n",
      "{'Krishna': 7, 'Sharma': 98}\n"
     ]
    }
   ],
   "source": [
    "#5 Write a Python program to remove a key from a dictionary. \n",
    "d1={\"Sahil\":1,\"Krishna\":7,\"Sharma\":98}\n",
    "key=input(\"Enter key that you want to delete: \")\n",
    "if key in d1.keys():\n",
    "    del(d1[key])\n",
    "    print(d1)\n",
    "else:\n",
    "    print(\"Key not present.\")"
   ]
  },
  {
   "cell_type": "code",
   "execution_count": 27,
   "id": "40f6109e",
   "metadata": {},
   "outputs": [
    {
     "name": "stdout",
     "output_type": "stream",
     "text": [
      "{'a': 45, 'b': 32, 'c': 54}\n"
     ]
    }
   ],
   "source": [
    "#6 Write a Python program to remove duplicates from Dictionary. \n",
    "d2={\"a\":45,\"b\":32,\"c\":54,\"d\":32}\n",
    "d3={}\n",
    "for i,j in d2.items():\n",
    "    if j not in d3.values():\n",
    "        d3[i]=j\n",
    "print(d3)"
   ]
  },
  {
   "cell_type": "code",
   "execution_count": 38,
   "id": "42c43b0d",
   "metadata": {},
   "outputs": [
    {
     "name": "stdout",
     "output_type": "stream",
     "text": [
      "enter the value: 32\n",
      "the key is b\n",
      "the key is d\n",
      "value not present\n",
      "{'a': 45, 'b': 32, 'c': 54, 'd': 32}\n"
     ]
    }
   ],
   "source": [
    "#8 write a python program to find out the key based on the value\n",
    "d2={\"a\":45,\"b\":32,\"c\":54,\"d\":32}\n",
    "a=int(input(\"enter the value: \"))\n",
    "for i,j in d2.items():\n",
    "    if j==a:\n",
    "        print(\"the key is\",i)\n",
    "else:\n",
    "    print(\"value not present\")\n",
    "print(d2)"
   ]
  },
  {
   "cell_type": "code",
   "execution_count": 41,
   "id": "f549b8d8",
   "metadata": {},
   "outputs": [
    {
     "name": "stdout",
     "output_type": "stream",
     "text": [
      "{'a': 45, 'b': 32, 'c': 108, 'd': 32, 'e': 34}\n"
     ]
    }
   ],
   "source": [
    "#7 Write a Python program to combine two dictionaries adding values for common keys \n",
    "# for example : d1={1: 10, 2: 20, 3: 30,5:10} d2={4: 40, 5: 50, 6: 60,2:10}\n",
    "# output : {1:10, 2:30, 3:30, 4:40, 5:60, 6:60}\n",
    "d4={\"c\":54,\"e\":34}\n",
    "d2={\"a\":45,\"b\":32,\"c\":54,\"d\":32}\n",
    "for i,j in d4.items():\n",
    "    if i in d2.keys():\n",
    "        d2[i]+=j\n",
    "    else:\n",
    "        d2[i]=j\n",
    "print(d2)"
   ]
  },
  {
   "cell_type": "code",
   "execution_count": 1,
   "id": "dfff368e",
   "metadata": {},
   "outputs": [
    {
     "name": "stdout",
     "output_type": "stream",
     "text": [
      "C 340\n"
     ]
    }
   ],
   "source": [
    "#9 write a python program for dictionary of names of students and a list of their marks in 4 subjects. \n",
    "# create another dictionary from this dictionary that has name of the students and their total marks.\n",
    "#  find out the topper and his/her marks.\n",
    "d1 = {'A': [10,20,30,40], 'B': [40,50,60,70], 'C': [70,80,90,100]}\n",
    "d2 = {x:sum(y) for x,y in d1.items()}\n",
    "max = max(d2.values())\n",
    "for i,j in d2.items():\n",
    "    if(j==max):\n",
    "        print(i,j)"
   ]
  },
  {
   "cell_type": "code",
   "execution_count": 2,
   "id": "9b338ebd",
   "metadata": {},
   "outputs": [
    {
     "name": "stdout",
     "output_type": "stream",
     "text": [
      "{10: 1, 20: 2, 30: 3}\n"
     ]
    }
   ],
   "source": [
    "#10 write a python program to reverse the dictionary values. \n",
    "d1={1: 10, 2: 20, 3: 30}\n",
    "d2 ={j:i for i,j in d1.items()}\n",
    "print(d2)"
   ]
  },
  {
   "cell_type": "code",
   "execution_count": 3,
   "id": "f04baf33",
   "metadata": {},
   "outputs": [
    {
     "name": "stdout",
     "output_type": "stream",
     "text": [
      "Enter the string sahilmendiratta\n",
      "{'s': 1, 'a': 3, 'h': 1, 'i': 2, 'l': 1, 'm': 1, 'e': 1, 'n': 1, 'd': 1, 'r': 1, 't': 2}\n"
     ]
    }
   ],
   "source": [
    "#11.Write a python program to accept a string from user, \n",
    "# to find the frequency of each character with the help of dictionary.\n",
    "str = input(\"Enter the string \")\n",
    "strdict = {}\n",
    "for i in str:\n",
    "    if i not in strdict.keys():\n",
    "        strdict[i] = 1\n",
    "        continue\n",
    "    strdict[i] = strdict[i]+1\n",
    "print(strdict)"
   ]
  },
  {
   "cell_type": "code",
   "execution_count": 5,
   "id": "bd0360cc",
   "metadata": {},
   "outputs": [
    {
     "name": "stdout",
     "output_type": "stream",
     "text": [
      "Enter the string abc xyz xyz cde abc\n",
      "{'abc': 2, 'xyz': 2, 'cde': 1}\n"
     ]
    }
   ],
   "source": [
    "#12 Write a python program to accept a string from user, \n",
    "# to find the frequency of each word with the help of dictionary.\n",
    "str = input(\"Enter the string \")\n",
    "strdict = {}\n",
    "for i in str.split():\n",
    "    if i not in strdict.keys():\n",
    "        strdict[i] = 1\n",
    "        continue\n",
    "    strdict[i] = strdict[i]+1\n",
    "print(strdict)"
   ]
  }
 ],
 "metadata": {
  "kernelspec": {
   "display_name": "Python 3 (ipykernel)",
   "language": "python",
   "name": "python3"
  },
  "language_info": {
   "codemirror_mode": {
    "name": "ipython",
    "version": 3
   },
   "file_extension": ".py",
   "mimetype": "text/x-python",
   "name": "python",
   "nbconvert_exporter": "python",
   "pygments_lexer": "ipython3",
   "version": "3.10.4"
  }
 },
 "nbformat": 4,
 "nbformat_minor": 5
}
