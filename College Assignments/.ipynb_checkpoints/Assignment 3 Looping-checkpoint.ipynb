{
 "cells": [
  {
   "cell_type": "code",
   "execution_count": 1,
   "id": "83a9dc01",
   "metadata": {},
   "outputs": [
    {
     "name": "stdout",
     "output_type": "stream",
     "text": [
      "\n",
      "0\n",
      "01\n",
      "012\n",
      "0123\n",
      "01234"
     ]
    }
   ],
   "source": [
    "#7\n",
    " # Ist pattern\n",
    "    \n",
    "for i in range(1,6):\n",
    "    print(\"\")\n",
    "    for j in range(i):\n",
    "        print(j,end=\"\")\n",
    "    \n"
   ]
  },
  {
   "cell_type": "code",
   "execution_count": 2,
   "id": "8a7d90ea",
   "metadata": {},
   "outputs": [
    {
     "name": "stdout",
     "output_type": "stream",
     "text": [
      "\n",
      "01234\n",
      "0123\n",
      "012\n",
      "01\n",
      "0"
     ]
    }
   ],
   "source": [
    "# 2nd pattern \n",
    "for i in range(1,6):\n",
    "    print()\n",
    "    for j in range(6-i):\n",
    "        print(j,end=\"\")"
   ]
  },
  {
   "cell_type": "code",
   "execution_count": 3,
   "id": "b7fb86b8",
   "metadata": {},
   "outputs": [
    {
     "name": "stdout",
     "output_type": "stream",
     "text": [
      "\n",
      "    0\n",
      "   01\n",
      "  012\n",
      " 0123\n",
      "01234"
     ]
    }
   ],
   "source": [
    "#3rd pattern\n",
    "for i in range(1,6):\n",
    "    print()\n",
    "    for sp in range(5-i):\n",
    "        print(\" \",end=\"\")\n",
    "    for j in range(i):\n",
    "        print(j,end=\"\")"
   ]
  },
  {
   "cell_type": "code",
   "execution_count": 4,
   "id": "f8d005a7",
   "metadata": {},
   "outputs": [
    {
     "name": "stdout",
     "output_type": "stream",
     "text": [
      "Enter no : 657\n",
      "756\n"
     ]
    }
   ],
   "source": [
    "#3 Write a python program to read an integer > 1000\n",
    "# and reverse the integer.\n",
    "a=int(input(\"Enter no : \"))\n",
    "rev=0\n",
    "while(a>0):\n",
    "    d=a%10\n",
    "    rev=rev*10+d\n",
    "    a=a//10\n",
    "print(rev)"
   ]
  },
  {
   "cell_type": "code",
   "execution_count": 5,
   "id": "75c3ae13",
   "metadata": {},
   "outputs": [
    {
     "name": "stdout",
     "output_type": "stream",
     "text": [
      "\n",
      "01234\n",
      " 0123\n",
      "  012\n",
      "   01\n",
      "    0"
     ]
    }
   ],
   "source": [
    "#4th pattern\n",
    "for i in range(0,5):\n",
    "    print()\n",
    "    for sp in range(i):\n",
    "        print(\" \",end=\"\")\n",
    "    for j in range(5-i):\n",
    "        print(j,end=\"\")\n",
    "    "
   ]
  },
  {
   "cell_type": "code",
   "execution_count": 6,
   "id": "66f143f9",
   "metadata": {},
   "outputs": [
    {
     "name": "stdout",
     "output_type": "stream",
     "text": [
      "1 2 3 4 5 \n",
      "2 2 3 4 5 \n",
      "3 3 3 4 5 \n",
      "4 4 4 4 5 \n",
      "5 5 5 5 5 \n"
     ]
    }
   ],
   "source": [
    "#5th pattern\n",
    "for i in range(1,6):\n",
    "    for j in range(i):\n",
    "        print(i,end=\" \")\n",
    "    for ot in range(5-i):\n",
    "        print(ot+1+i,end=\" \")\n",
    "    print()\n",
    "    \n",
    "    "
   ]
  },
  {
   "cell_type": "code",
   "execution_count": 7,
   "id": "3c118418",
   "metadata": {},
   "outputs": [
    {
     "name": "stdout",
     "output_type": "stream",
     "text": [
      "1 \n",
      "2 4 \n",
      "3 6 9 \n",
      "4 8 12 16 \n",
      "5 10 15 20 25 \n"
     ]
    }
   ],
   "source": [
    "#6th pattern\n",
    "for i in range(1,6):\n",
    "    for j in range(1,i+1):\n",
    "        print(i*j, end =\" \")\n",
    "    print()\n",
    "        \n",
    "        "
   ]
  },
  {
   "cell_type": "code",
   "execution_count": 1,
   "id": "05300b36",
   "metadata": {},
   "outputs": [
    {
     "name": "stdout",
     "output_type": "stream",
     "text": [
      "Value of n: 5\n",
      "     *\n",
      "    ***\n",
      "   *****\n",
      "  *******\n",
      " *********\n",
      "  *******\n",
      "   *****\n",
      "    ***\n",
      "     *\n"
     ]
    }
   ],
   "source": [
    "#7th pattern\n",
    "n = int(input(\"Value of n: \"))\n",
    "for i in range(n-1):\n",
    "    for j in range(n-i):\n",
    "        print(\" \", end=\"\")\n",
    "    for j in range(i+1):\n",
    "        print(\"*\", end=\"\")\n",
    "    for j in range(i):\n",
    "        print(\"*\", end=\"\")\n",
    "    print()\n",
    "for i in range(n):\n",
    "    for j in range(i+1):\n",
    "        print(\" \", end=\"\")\n",
    "    for j in range(n-i):\n",
    "        print(\"*\", end=\"\")\n",
    "    for j in range(n-i-1):\n",
    "        print(\"*\", end=\"\")\n",
    "    print()"
   ]
  },
  {
   "cell_type": "code",
   "execution_count": 8,
   "id": "ce804847",
   "metadata": {},
   "outputs": [
    {
     "name": "stdout",
     "output_type": "stream",
     "text": [
      "enter the no.5\n",
      "5\n",
      "4\n",
      "3\n",
      "2\n",
      "1\n",
      "0\n"
     ]
    }
   ],
   "source": [
    "#1 Write a program using while loop that asks the user\n",
    "# for a number, and prints a countdown from that number to zero.\n",
    "a=int(input(\"enter the no.\"))\n",
    "while(a>=0):\n",
    "    print(a)\n",
    "    a=a-1"
   ]
  },
  {
   "cell_type": "code",
   "execution_count": 2,
   "id": "4690b51d",
   "metadata": {},
   "outputs": [
    {
     "name": "stdout",
     "output_type": "stream",
     "text": [
      "enter the positive no.6\n",
      "the factors of 6 =\n",
      "1\n",
      "2\n",
      "3\n",
      "6\n"
     ]
    }
   ],
   "source": [
    "#2 Accept a positive integer n as input and print \n",
    "# all the factors of n, one number on each line.\n",
    "a=int(input(\"enter the positive no.\"))\n",
    "print(\"the factors of\",a,\"=\")\n",
    "for i in range(1,a//2+1):\n",
    "    if(a%i==0):\n",
    "        print(i)\n",
    "print(a)"
   ]
  },
  {
   "cell_type": "code",
   "execution_count": 9,
   "id": "ebabc58c",
   "metadata": {},
   "outputs": [
    {
     "name": "stdout",
     "output_type": "stream",
     "text": [
      "enter the no: 569\n",
      "20\n"
     ]
    }
   ],
   "source": [
    "#4 Accept a positive integer n as input and print the sum \n",
    "# of digits in the number.\n",
    "a=int(input(\"enter the no: \"))\n",
    "sum=0\n",
    "while a>0:\n",
    "    sum=sum+a%10\n",
    "    a=a//10\n",
    "print(sum)"
   ]
  },
  {
   "cell_type": "code",
   "execution_count": 7,
   "id": "80bd7cf2",
   "metadata": {},
   "outputs": [
    {
     "name": "stdout",
     "output_type": "stream",
     "text": [
      "153\n",
      "370\n",
      "371\n",
      "407\n"
     ]
    }
   ],
   "source": [
    "#5 Write a program to print out all the Armstrong numbers\n",
    "# between 100 and 500. If sum of cubes of each digit of \n",
    "# the number is equal to the number itself, the it is \n",
    "# called an Armstrong no. \n",
    "for i in range(100,501):\n",
    "    sum=0\n",
    "    b=i\n",
    "    while(i>0):\n",
    "        d=i%10\n",
    "        sum=sum+d**3\n",
    "        i=i//10\n",
    "    if(b==sum):\n",
    "        print(b)"
   ]
  },
  {
   "cell_type": "code",
   "execution_count": 12,
   "id": "19fec555",
   "metadata": {},
   "outputs": [
    {
     "name": "stdout",
     "output_type": "stream",
     "text": [
      "Enter range you want to start from: 4\n",
      "Enter range till you want: 15\n",
      "Sum of prime numbers in the range 4-15 is 36\n"
     ]
    }
   ],
   "source": [
    "#6 Write a program to print the sum of all primes between two ranges.\n",
    "a=int(input(\"Enter range you want to start from: \"))\n",
    "b=int(input(\"Enter range till you want: \"))\n",
    "sum=0\n",
    "for i in range(a,b+1):\n",
    "    count=1\n",
    "    for j in range(2,(i//2)+1):\n",
    "        if (i%j==0):\n",
    "            count=0\n",
    "            break\n",
    "    if count==1:\n",
    "        sum+=i\n",
    "print(f\"Sum of prime numbers in the range {a}-{b} is {sum}\")\n",
    "            \n",
    "        "
   ]
  }
 ],
 "metadata": {
  "kernelspec": {
   "display_name": "Python 3 (ipykernel)",
   "language": "python",
   "name": "python3"
  },
  "language_info": {
   "codemirror_mode": {
    "name": "ipython",
    "version": 3
   },
   "file_extension": ".py",
   "mimetype": "text/x-python",
   "name": "python",
   "nbconvert_exporter": "python",
   "pygments_lexer": "ipython3",
   "version": "3.10.4"
  }
 },
 "nbformat": 4,
 "nbformat_minor": 5
}
