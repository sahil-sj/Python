{
 "cells": [
  {
   "cell_type": "code",
   "execution_count": 2,
   "id": "20f34fc4",
   "metadata": {},
   "outputs": [
    {
     "name": "stdout",
     "output_type": "stream",
     "text": [
      "Enter temperature in Fahrenheit: 98\n",
      "36.669599999999996\n"
     ]
    }
   ],
   "source": [
    "#1\n",
    "f=int(input(\"Enter temperature in Fahrenheit: \"))\n",
    "c=(f-32)*.5556\n",
    "print(c)"
   ]
  },
  {
   "cell_type": "code",
   "execution_count": 3,
   "id": "0ebf38ea",
   "metadata": {},
   "outputs": [
    {
     "name": "stdout",
     "output_type": "stream",
     "text": [
      "Enter no of Quantity you purchased2\n",
      "Enter price per item1500\n",
      "discounted price 2700.0\n"
     ]
    }
   ],
   "source": [
    "#2\n",
    "q=int(input(\"Enter no of Quantity you purchased\"))\n",
    "p=int(input(\"Enter price per item : \"))\n",
    "tp=p*q\n",
    "if(tp>1000):\n",
    "    tp-=tp*0.1\n",
    "print(\"discounted price\",tp)\n"
   ]
  },
  {
   "cell_type": "code",
   "execution_count": 4,
   "id": "95503743",
   "metadata": {},
   "outputs": [
    {
     "name": "stdout",
     "output_type": "stream",
     "text": [
      "married or unmarried: unmarried\n",
      "enter the age: 30\n",
      "male or female: male\n",
      "insured\n"
     ]
    }
   ],
   "source": [
    "#3\n",
    "status=input(\"married or unmarried: \")\n",
    "if(status==\"married\" or status==\"Married\"):\n",
    "    print(\"Insured\")\n",
    "if(status==\"unmarried\" or status==\"Unmarried\"):\n",
    "    age=int(input(\"enter the age: \"))\n",
    "    sex=input(\"male or female: \")\n",
    "    if(sex==\"male\" or \"Male\" and age>30):\n",
    "        print(\"insured\")\n",
    "    elif(sex==\"female\" or \"Female\" and age>25):\n",
    "        print(\"insured\")\n",
    "else:\n",
    "    print(\"not insured\")"
   ]
  },
  {
   "cell_type": "code",
   "execution_count": 5,
   "id": "bf710a6b",
   "metadata": {},
   "outputs": [
    {
     "name": "stdout",
     "output_type": "stream",
     "text": [
      "enter the no: 5\n",
      "5 is odd no.\n"
     ]
    }
   ],
   "source": [
    "#4\n",
    "a=int(input(\"enter the no: \"))\n",
    "if(a%2):\n",
    "    print(f\"{a} is odd no.\")\n",
    "else:\n",
    "    print(f\"{a} is even no.\")"
   ]
  },
  {
   "cell_type": "code",
   "execution_count": 8,
   "id": "1b8af366",
   "metadata": {},
   "outputs": [
    {
     "name": "stdout",
     "output_type": "stream",
     "text": [
      "enter the no: 5\n",
      "enter the 2nd no: 10\n",
      "10 is greater\n"
     ]
    }
   ],
   "source": [
    "#5\n",
    "a=int(input(\"enter the no: \"))\n",
    "b=int(input(\"enter the 2nd no: \"))\n",
    "print(\"f{a} is greater\") if(a>b) else print(f\"{b} is greater\")"
   ]
  },
  {
   "cell_type": "code",
   "execution_count": 7,
   "id": "5f04193b",
   "metadata": {},
   "outputs": [
    {
     "name": "stdout",
     "output_type": "stream",
     "text": [
      "enter the no: 7\n",
      "enter the 2nd no: 3\n",
      "7 is greater\n"
     ]
    }
   ],
   "source": [
    "#5\n",
    "a=int(input(\"enter the no: \"))\n",
    "b=int(input(\"enter the 2nd no: \"))\n",
    "if(a>b):\n",
    "    print(f\"{a} is greater\")\n",
    "else:\n",
    "    print(f\"{b} is greater\")"
   ]
  },
  {
   "cell_type": "code",
   "execution_count": 10,
   "id": "c3bd6a07",
   "metadata": {},
   "outputs": [
    {
     "name": "stdout",
     "output_type": "stream",
     "text": [
      "enter the no.5\n",
      "positive\n"
     ]
    }
   ],
   "source": [
    "#6\n",
    "a=int(input(\"enter the no.\"))\n",
    "if(a>0):\n",
    "    print(\"positive\")\n",
    "elif(a<0):\n",
    "    print(\"negative\")\n",
    "else:\n",
    "    print(\"Please enter number greater than zero.\")"
   ]
  },
  {
   "cell_type": "code",
   "execution_count": 14,
   "id": "edea890a",
   "metadata": {},
   "outputs": [
    {
     "ename": "KeyboardInterrupt",
     "evalue": "Interrupted by user",
     "output_type": "error",
     "traceback": [
      "\u001b[1;31m---------------------------------------------------------------------------\u001b[0m",
      "\u001b[1;31mKeyboardInterrupt\u001b[0m                         Traceback (most recent call last)",
      "Input \u001b[1;32mIn [14]\u001b[0m, in \u001b[0;36m<cell line: 2>\u001b[1;34m()\u001b[0m\n\u001b[0;32m      1\u001b[0m \u001b[38;5;66;03m#7\u001b[39;00m\n\u001b[1;32m----> 2\u001b[0m s\u001b[38;5;241m=\u001b[39m\u001b[38;5;28meval\u001b[39m(\u001b[38;5;28;43minput\u001b[39;49m\u001b[43m(\u001b[49m\u001b[38;5;124;43m\"\u001b[39;49m\u001b[38;5;124;43mEnter salary: \u001b[39;49m\u001b[38;5;124;43m\"\u001b[39;49m\u001b[43m)\u001b[49m)\n\u001b[0;32m      3\u001b[0m \u001b[38;5;28;01mif\u001b[39;00m(s\u001b[38;5;241m<\u001b[39m\u001b[38;5;241m1500\u001b[39m):\n\u001b[0;32m      4\u001b[0m     ts\u001b[38;5;241m=\u001b[39ms\u001b[38;5;241m+\u001b[39m\u001b[38;5;241m0.1\u001b[39m\u001b[38;5;241m*\u001b[39ms\u001b[38;5;241m+\u001b[39m\u001b[38;5;241m0.9\u001b[39m\u001b[38;5;241m*\u001b[39ms\n",
      "File \u001b[1;32m~\\AppData\\Local\\Programs\\Python\\Python310\\lib\\site-packages\\ipykernel\\kernelbase.py:1177\u001b[0m, in \u001b[0;36mKernel.raw_input\u001b[1;34m(self, prompt)\u001b[0m\n\u001b[0;32m   1173\u001b[0m \u001b[38;5;28;01mif\u001b[39;00m \u001b[38;5;129;01mnot\u001b[39;00m \u001b[38;5;28mself\u001b[39m\u001b[38;5;241m.\u001b[39m_allow_stdin:\n\u001b[0;32m   1174\u001b[0m     \u001b[38;5;28;01mraise\u001b[39;00m StdinNotImplementedError(\n\u001b[0;32m   1175\u001b[0m         \u001b[38;5;124m\"\u001b[39m\u001b[38;5;124mraw_input was called, but this frontend does not support input requests.\u001b[39m\u001b[38;5;124m\"\u001b[39m\n\u001b[0;32m   1176\u001b[0m     )\n\u001b[1;32m-> 1177\u001b[0m \u001b[38;5;28;01mreturn\u001b[39;00m \u001b[38;5;28;43mself\u001b[39;49m\u001b[38;5;241;43m.\u001b[39;49m\u001b[43m_input_request\u001b[49m\u001b[43m(\u001b[49m\n\u001b[0;32m   1178\u001b[0m \u001b[43m    \u001b[49m\u001b[38;5;28;43mstr\u001b[39;49m\u001b[43m(\u001b[49m\u001b[43mprompt\u001b[49m\u001b[43m)\u001b[49m\u001b[43m,\u001b[49m\n\u001b[0;32m   1179\u001b[0m \u001b[43m    \u001b[49m\u001b[38;5;28;43mself\u001b[39;49m\u001b[38;5;241;43m.\u001b[39;49m\u001b[43m_parent_ident\u001b[49m\u001b[43m[\u001b[49m\u001b[38;5;124;43m\"\u001b[39;49m\u001b[38;5;124;43mshell\u001b[39;49m\u001b[38;5;124;43m\"\u001b[39;49m\u001b[43m]\u001b[49m\u001b[43m,\u001b[49m\n\u001b[0;32m   1180\u001b[0m \u001b[43m    \u001b[49m\u001b[38;5;28;43mself\u001b[39;49m\u001b[38;5;241;43m.\u001b[39;49m\u001b[43mget_parent\u001b[49m\u001b[43m(\u001b[49m\u001b[38;5;124;43m\"\u001b[39;49m\u001b[38;5;124;43mshell\u001b[39;49m\u001b[38;5;124;43m\"\u001b[39;49m\u001b[43m)\u001b[49m\u001b[43m,\u001b[49m\n\u001b[0;32m   1181\u001b[0m \u001b[43m    \u001b[49m\u001b[43mpassword\u001b[49m\u001b[38;5;241;43m=\u001b[39;49m\u001b[38;5;28;43;01mFalse\u001b[39;49;00m\u001b[43m,\u001b[49m\n\u001b[0;32m   1182\u001b[0m \u001b[43m\u001b[49m\u001b[43m)\u001b[49m\n",
      "File \u001b[1;32m~\\AppData\\Local\\Programs\\Python\\Python310\\lib\\site-packages\\ipykernel\\kernelbase.py:1219\u001b[0m, in \u001b[0;36mKernel._input_request\u001b[1;34m(self, prompt, ident, parent, password)\u001b[0m\n\u001b[0;32m   1216\u001b[0m             \u001b[38;5;28;01mbreak\u001b[39;00m\n\u001b[0;32m   1217\u001b[0m \u001b[38;5;28;01mexcept\u001b[39;00m \u001b[38;5;167;01mKeyboardInterrupt\u001b[39;00m:\n\u001b[0;32m   1218\u001b[0m     \u001b[38;5;66;03m# re-raise KeyboardInterrupt, to truncate traceback\u001b[39;00m\n\u001b[1;32m-> 1219\u001b[0m     \u001b[38;5;28;01mraise\u001b[39;00m \u001b[38;5;167;01mKeyboardInterrupt\u001b[39;00m(\u001b[38;5;124m\"\u001b[39m\u001b[38;5;124mInterrupted by user\u001b[39m\u001b[38;5;124m\"\u001b[39m) \u001b[38;5;28;01mfrom\u001b[39;00m \u001b[38;5;28mNone\u001b[39m\n\u001b[0;32m   1220\u001b[0m \u001b[38;5;28;01mexcept\u001b[39;00m \u001b[38;5;167;01mException\u001b[39;00m:\n\u001b[0;32m   1221\u001b[0m     \u001b[38;5;28mself\u001b[39m\u001b[38;5;241m.\u001b[39mlog\u001b[38;5;241m.\u001b[39mwarning(\u001b[38;5;124m\"\u001b[39m\u001b[38;5;124mInvalid Message:\u001b[39m\u001b[38;5;124m\"\u001b[39m, exc_info\u001b[38;5;241m=\u001b[39m\u001b[38;5;28;01mTrue\u001b[39;00m)\n",
      "\u001b[1;31mKeyboardInterrupt\u001b[0m: Interrupted by user"
     ]
    }
   ],
   "source": [
    "#7\n",
    "s=eval(input(\"Enter salary: \"))\n",
    "if(s<1500):\n",
    "    ts=s+0.1*s+0.9*s\n",
    "else:\n",
    "    ts=s+500+0.98*s\n",
    "print(\"Gross Salary is : \",ts)\n",
    "    \n"
   ]
  },
  {
   "cell_type": "code",
   "execution_count": 16,
   "id": "9ecc64eb",
   "metadata": {},
   "outputs": [
    {
     "name": "stdout",
     "output_type": "stream",
     "text": [
      "Enter percentage you obtained : 49.9\n",
      "Third Division\n"
     ]
    }
   ],
   "source": [
    "p=eval(input(\"Enter percentage you obtained : \"))\n",
    "if(p>=60):\n",
    "    print(\"First Division\")\n",
    "elif(p>=50):\n",
    "    print(\"Second Division\")\n",
    "elif(p>=40):\n",
    "    print(\"Third Division\")\n",
    "else:\n",
    "    print(\"Fail\")\n"
   ]
  },
  {
   "cell_type": "code",
   "execution_count": 12,
   "id": "22639597",
   "metadata": {},
   "outputs": [
    {
     "name": "stdout",
     "output_type": "stream",
     "text": [
      "Enter any number: -7\n",
      "-343\n"
     ]
    }
   ],
   "source": [
    "#9\n",
    "n=int(input(\"Enter any number: \"))\n",
    "flag=False\n",
    "if(n>0):\n",
    "    flag=True\n",
    "    print(f\"{n*n}\")\n",
    "elif(n<0):\n",
    "    flag=True\n",
    "    print(f\"{n**3}\")\n",
    "else:\n",
    "    flag=False\n"
   ]
  },
  {
   "cell_type": "code",
   "execution_count": 17,
   "id": "bc075daa",
   "metadata": {},
   "outputs": [
    {
     "name": "stdout",
     "output_type": "stream",
     "text": [
      "enter year year to check it is leap year or not: 100\n",
      "Not a Leap year\n"
     ]
    }
   ],
   "source": [
    "#10\n",
    "y=int(input(\"enter year year to check it is leap year or not: \"))\n",
    "if(y%4==0 and y%100!=0) or (y%400==0):\n",
    "    print(\"Leap Year\")\n",
    "else:\n",
    "    print(\"Not a Leap year\")\n",
    "    "
   ]
  },
  {
   "cell_type": "code",
   "execution_count": 13,
   "id": "494ab4db",
   "metadata": {},
   "outputs": [
    {
     "name": "stdout",
     "output_type": "stream",
     "text": [
      "Enter year to check for leap yeaar100\n",
      "100 is not leap year\n"
     ]
    }
   ],
   "source": [
    "#10\n",
    "a=int(input(\"Enter year to check for leap yeaar\"))\n",
    "if(a%100!=0):\n",
    "    if(a%4==0):\n",
    "        print(f\"{a} is leap year\")\n",
    "elif(a%400==0):\n",
    "    print(f\"{a} is leap year\")\n",
    "else:\n",
    "    print(f\"{a} is not leap year\")\n"
   ]
  },
  {
   "cell_type": "code",
   "execution_count": null,
   "id": "84881fac",
   "metadata": {},
   "outputs": [],
   "source": []
  }
 ],
 "metadata": {
  "kernelspec": {
   "display_name": "Python 3 (ipykernel)",
   "language": "python",
   "name": "python3"
  },
  "language_info": {
   "codemirror_mode": {
    "name": "ipython",
    "version": 3
   },
   "file_extension": ".py",
   "mimetype": "text/x-python",
   "name": "python",
   "nbconvert_exporter": "python",
   "pygments_lexer": "ipython3",
   "version": "3.10.4"
  },
  "vscode": {
   "interpreter": {
    "hash": "fbc768028c3e6ead51d9a200ddcb2ec858ae62844dcd1994729a8279be9b48f2"
   }
  }
 },
 "nbformat": 4,
 "nbformat_minor": 5
}
