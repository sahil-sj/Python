{
 "cells": [
  {
   "cell_type": "code",
   "execution_count": 3,
   "id": "f85a9557",
   "metadata": {},
   "outputs": [
    {
     "data": {
      "text/plain": [
       "15"
      ]
     },
     "execution_count": 3,
     "metadata": {},
     "output_type": "execute_result"
    }
   ],
   "source": [
    "#1 Write a Python function to find out the maximum of three numbers.\n",
    "def maxofthree(a,b,c):\n",
    "    print(max(a,b,c))\n",
    "\n",
    "max(4,15,10)"
   ]
  },
  {
   "cell_type": "code",
   "execution_count": 5,
   "id": "b4f82837",
   "metadata": {},
   "outputs": [
    {
     "name": "stdout",
     "output_type": "stream",
     "text": [
      "Enter the value: 6\n",
      "720\n"
     ]
    }
   ],
   "source": [
    "#2 Write a Python recursive/non-recursive function to calculate the factorial of a number (a\n",
    "# non-negative integer). The function accepts the number as an argument.\n",
    "def factorial(n):\n",
    "    if n==1:\n",
    "        return 1\n",
    "    else: \n",
    "        return n*factorial(n-1)\n",
    "\n",
    "n= int(input(\"Enter the value: \"))\n",
    "print(factorial(n))"
   ]
  },
  {
   "cell_type": "code",
   "execution_count": 6,
   "id": "bf144bd8",
   "metadata": {},
   "outputs": [
    {
     "name": "stdout",
     "output_type": "stream",
     "text": [
      "Enter the value to find: 5\n",
      "Enter the starting range: 2\n",
      "Enter the last range: 7\n",
      "In range\n"
     ]
    }
   ],
   "source": [
    "#3 Write a Python function to check whether a number falls in a given range.\n",
    "def num(n):\n",
    "    i = int(input(\"Enter the starting range: \"))\n",
    "    j = int(input(\"Enter the last range: \"))\n",
    "    for a in range(i,j+1):\n",
    "        if n == a:\n",
    "            print(\"In range\")\n",
    "            break\n",
    "    else:\n",
    "        print(\"Out of range\")\n",
    "        \n",
    "n= int(input(\"Enter the value to find: \"))\n",
    "num(n)"
   ]
  },
  {
   "cell_type": "code",
   "execution_count": 7,
   "id": "c305f5ee",
   "metadata": {},
   "outputs": [
    {
     "name": "stdout",
     "output_type": "stream",
     "text": [
      "Enter the value: ComPuTer\n",
      "Capital letters: 3\n",
      "Small letters: 5\n"
     ]
    }
   ],
   "source": [
    "#4 Write a Python function that accepts a string and find out how many characters are in\n",
    "# upper case letters and lower case.\n",
    "def str(string):\n",
    "    cl = 0\n",
    "    cu = 0\n",
    "    for i in string:\n",
    "        if i.isupper():\n",
    "            cu += 1\n",
    "        elif i.islower():\n",
    "            cl+= 1\n",
    "    print(f\"Capital letters: {cu}\")\n",
    "    print(f\"Small letters: {cl}\")\n",
    "    \n",
    "string = input(\"Enter the value: \")\n",
    "str(string)"
   ]
  },
  {
   "cell_type": "code",
   "execution_count": 9,
   "id": "85bbc2f1",
   "metadata": {},
   "outputs": [
    {
     "name": "stdout",
     "output_type": "stream",
     "text": [
      "Enter the value: 13\n",
      "Prime\n"
     ]
    }
   ],
   "source": [
    "#5 Write a Python function that takes a number as a parameter and checks the number is\n",
    "# prime or not.\n",
    "def prime(n):\n",
    "    for i in range(2, n//2+1):\n",
    "        if n%i==0:\n",
    "            print(\"Not Prime\")\n",
    "            break\n",
    "    else:\n",
    "        print(\"Prime\")\n",
    "\n",
    "n = int(input(\"Enter the value: \"))\n",
    "prime(n)"
   ]
  },
  {
   "cell_type": "code",
   "execution_count": 11,
   "id": "23bee999",
   "metadata": {},
   "outputs": [
    {
     "name": "stdout",
     "output_type": "stream",
     "text": [
      "Enter range till you want to display prime numbers: 20\n",
      "2 3 5 7 11 13 17 19 "
     ]
    }
   ],
   "source": [
    "#6 Write a Python function that takes a number as an argument and displays all prime\n",
    "numbers up to nth number.\n",
    "def prime(n):\n",
    "    for num in range(2, n+1):\n",
    "        if num > 1:\n",
    "            for i in range(2, num//2+1):\n",
    "                if (num % i) == 0:\n",
    "                    break\n",
    "            else:\n",
    "                print(num,end=\" \")\n",
    "n=int(input(\"Enter range till you want to display prime numbers: \"))            \n",
    "prime(n)"
   ]
  },
  {
   "cell_type": "code",
   "execution_count": 15,
   "id": "401e3361",
   "metadata": {},
   "outputs": [
    {
     "name": "stdout",
     "output_type": "stream",
     "text": [
      "Enter the range till you want the fibonacci series: 20\n",
      "0 1 1 2 3 5 8 13 21 34 55 89 144 233 377 610 987 1597 2584 4181 "
     ]
    }
   ],
   "source": [
    "#7 Write a Python function to generate the Fibonacci series up to nth number.\n",
    "def fibonacci(n):\n",
    "    n1=0\n",
    "    n2=1\n",
    "    print(n1,n2,end=\" \")\n",
    "    for i in range(3,n+1):\n",
    "        following=n1+n2\n",
    "        print(following,end=\" \")\n",
    "        n1=n2\n",
    "        n2=following\n",
    "n=int(input(\"Enter the range till you want the fibonacci series: \"))\n",
    "fibonacci(n)\n",
    "        "
   ]
  },
  {
   "cell_type": "code",
   "execution_count": 18,
   "id": "5579eace",
   "metadata": {},
   "outputs": [
    {
     "name": "stdout",
     "output_type": "stream",
     "text": [
      "Enter the starting value: 4\n",
      "Enter the ending value: 10\n",
      "49\n"
     ]
    }
   ],
   "source": [
    "#8 Write a Python function sum(start, end) that adds all the integers between the start and\n",
    "# end value (inclusive) and returns the total sum.\n",
    "def sum(start,end):\n",
    "    s=0\n",
    "    for i in range(start,end+1):\n",
    "        s+=i\n",
    "    return s\n",
    "s=int(input(\"Enter the starting value: \"))\n",
    "e=int(input(\"Enter the ending value: \"))\n",
    "a=sum(s,e)\n",
    "print(a)"
   ]
  },
  {
   "cell_type": "code",
   "execution_count": 22,
   "id": "5c31ad63",
   "metadata": {},
   "outputs": [
    {
     "name": "stdout",
     "output_type": "stream",
     "text": [
      "Enter name: Raghav\n",
      "Enter gender(M/F): M\n",
      "Mr.Raghav\n"
     ]
    }
   ],
   "source": [
    "#9 Write a Python program that uses a user defined function that accepts name and gender\n",
    "# (as M for Male, F for Female) and prefixes Mr. /Ms. on the basis of the gender.\n",
    "def namegender(name,gender):\n",
    "    if(gender=='M' or gender=='m'):\n",
    "        print(\"Mr.\",name,sep=\"\")\n",
    "    elif(gender=='F' or gender=='f'):\n",
    "        print(\"Ms.\",name,sep=\"\")\n",
    "n=input(\"Enter name: \")\n",
    "g=input(\"Enter gender(M/F): \")\n",
    "namegender(n,g)"
   ]
  },
  {
   "cell_type": "code",
   "execution_count": 52,
   "id": "10073705",
   "metadata": {},
   "outputs": [
    {
     "name": "stdout",
     "output_type": "stream",
     "text": [
      "Congratulations! Id no 459 won the reward.\n"
     ]
    }
   ],
   "source": [
    "#10 ABC School has allotted unique token IDs from (1 to 600) to all the parents for facilitating\n",
    "# a lucky draw on the day of their Annual day function. The winner would receive a special\n",
    "# prize. Write a program using Python that helps to automate the task.(Hint: use random\n",
    "# module\n",
    "import random\n",
    "a=random.randint(1,601)\n",
    "print(f\"Congratulations! Id no {a} won the reward.\")"
   ]
  },
  {
   "cell_type": "code",
   "execution_count": 53,
   "id": "2d09d79d",
   "metadata": {},
   "outputs": [
    {
     "name": "stdout",
     "output_type": "stream",
     "text": [
      "Enter range till you want the sum: 20\n",
      "210\n"
     ]
    }
   ],
   "source": [
    "#11 Write a Python program to calculate sum of first ‘n’ natural numbers using recursion\n",
    "def sum(n):\n",
    "    if n==1:\n",
    "        return 1\n",
    "    else:\n",
    "        return n+sum(n-1)\n",
    "n=int(input(\"Enter range till you want the sum: \"))\n",
    "a=sum(n)\n",
    "print(a)"
   ]
  },
  {
   "cell_type": "code",
   "execution_count": 2,
   "id": "518a611e",
   "metadata": {},
   "outputs": [
    {
     "name": "stdout",
     "output_type": "stream",
     "text": [
      "Enter base: 2\n",
      "Enter power: 6\n",
      "64\n"
     ]
    }
   ],
   "source": [
    "#12 Write a Python program to input two numbers from user variable x and y and performed recursive\n",
    "# function to find out the value of xy.\n",
    "def power(b,p):\n",
    "    if(p!=0):\n",
    "        return(b* power(b,p-1))\n",
    "    else:\n",
    "        return 1\n",
    "b=int(input(\"Enter base: \"))\n",
    "p=int(input(\"Enter power: \"))\n",
    "a=power(b,p)\n",
    "print(a)"
   ]
  }
 ],
 "metadata": {
  "kernelspec": {
   "display_name": "Python 3 (ipykernel)",
   "language": "python",
   "name": "python3"
  },
  "language_info": {
   "codemirror_mode": {
    "name": "ipython",
    "version": 3
   },
   "file_extension": ".py",
   "mimetype": "text/x-python",
   "name": "python",
   "nbconvert_exporter": "python",
   "pygments_lexer": "ipython3",
   "version": "3.10.4"
  },
  "vscode": {
   "interpreter": {
    "hash": "fbc768028c3e6ead51d9a200ddcb2ec858ae62844dcd1994729a8279be9b48f2"
   }
  }
 },
 "nbformat": 4,
 "nbformat_minor": 5
}
