{
 "cells": [
  {
   "cell_type": "code",
   "execution_count": null,
   "id": "5d8b1d3b",
   "metadata": {},
   "outputs": [],
   "source": [
    "\n",
    "min=max=int(input(\"Enter no : \"))\n",
    "for i in range(1,2):\n",
    "    a= int(input(\"Enter No : \"))\n",
    "    if(a>max):\n",
    "        max=a\n",
    "    elif a<min:\n",
    "        min=a\n",
    "print(\"The Maximum is : \",max)\n",
    "print(\"The Minimum is : \",min)\n",
    "    "
   ]
  },
  {
   "cell_type": "code",
   "execution_count": null,
   "id": "4fbf029e",
   "metadata": {},
   "outputs": [],
   "source": []
  },
  {
   "cell_type": "code",
   "execution_count": null,
   "id": "cb9c0c4b",
   "metadata": {},
   "outputs": [],
   "source": [
    "n=int(input(\"Enter no to calculate factorial : \"))\n",
    "fact\n",
    "if n==0:\n",
    "    print(\"1\")\n",
    "if(n<0):\n",
    "    print(\"Error. Please enter positive no\")\n",
    "for in range(1,n+1):\n",
    "    fact=fact*i\n",
    "print(\"the factorial of no is\",Fact)"
   ]
  },
  {
   "cell_type": "code",
   "execution_count": 2,
   "id": "20f34fc4",
   "metadata": {},
   "outputs": [
    {
     "name": "stdout",
     "output_type": "stream",
     "text": [
      "Enter temperature in Fahrenheit100\n",
      "37.7808\n"
     ]
    }
   ],
   "source": [
    "#1\n",
    "f=int(input(\"Enter temperature in Fahrenheit\"))\n",
    "c=(f-32)*.5556\n",
    "print(c)"
   ]
  },
  {
   "cell_type": "code",
   "execution_count": 3,
   "id": "0ebf38ea",
   "metadata": {},
   "outputs": [
    {
     "name": "stdout",
     "output_type": "stream",
     "text": [
      "Enter no of Quantity you purchased2\n",
      "Enter price per item1500\n",
      "discounted price 2700.0\n"
     ]
    }
   ],
   "source": [
    "#2\n",
    "q=int(input(\"Enter no of Quantity you purchased\"))\n",
    "p=int(input(\"Enter price per item : \"))\n",
    "tp=p*q\n",
    "if(tp>1000):\n",
    "    tp-=tp*0.1\n",
    "print(\"discounted price\",tp)\n"
   ]
  },
  {
   "cell_type": "code",
   "execution_count": 9,
   "id": "95503743",
   "metadata": {},
   "outputs": [
    {
     "name": "stdout",
     "output_type": "stream",
     "text": [
      "married or unmarriedunmarried\n",
      "enter the age: 30\n",
      "male or femalefemale\n",
      "insured\n"
     ]
    }
   ],
   "source": [
    "status=input(\"married or unmarried: \")\n",
    "if(status==\"married\" or status==\"Married\"):\n",
    "    print(\"Insured\")\n",
    "if(status==\"unmarried\" or status==\"Unmarried\"):\n",
    "    age=int(input(\"enter the age: \"))\n",
    "    sex=input(\"male or female: \")\n",
    "    if(sex==\"male\" or \"Male\" and age>30):\n",
    "        print(\"insured\")\n",
    "    elif(sex==\"female\" or \"Female and age>25):\n",
    "        print(\"insured\")\n",
    "else:\n",
    "    print(\"not insured\")"
   ]
  },
  {
   "cell_type": "code",
   "execution_count": 10,
   "id": "bf710a6b",
   "metadata": {},
   "outputs": [
    {
     "name": "stdout",
     "output_type": "stream",
     "text": [
      "enter the no.3\n",
      "a is odd no.\n"
     ]
    }
   ],
   "source": [
    "#3\n",
    "a=int(input(\"enter the no.\"))\n",
    "if(a%2):\n",
    "    print(\"a is odd no.\")\n",
    "else:\n",
    "    print(\"a is even no.\")"
   ]
  },
  {
   "cell_type": "code",
   "execution_count": 12,
   "id": "1b8af366",
   "metadata": {},
   "outputs": [
    {
     "name": "stdout",
     "output_type": "stream",
     "text": [
      "enter the no: 12\n",
      "enter the 2nd no: 15\n",
      "b is greater\n"
     ]
    }
   ],
   "source": [
    "#4\n",
    "a=int(input(\"enter the no: \"))\n",
    "b=int(input(\"enter the 2nd no: \"))\n",
    "print(\"a is greater\") if(a>b) else print(\"b is greater\")"
   ]
  },
  {
   "cell_type": "code",
   "execution_count": null,
   "id": "5f04193b",
   "metadata": {},
   "outputs": [],
   "source": [
    "#5\n",
    "a=int(input(\"enter the no: \"))\n",
    "b=int(input(\"enter the 2nd no: \"))\n",
    "if(a>b):\n",
    "    print(\"a is greater\")\n",
    "else:\n",
    "    print(\"b is greater\")"
   ]
  },
  {
   "cell_type": "code",
   "execution_count": null,
   "id": "c3bd6a07",
   "metadata": {},
   "outputs": [],
   "source": [
    "#6\n",
    "a=int(input(\"enter the no.\"))\n",
    "if(a>0):\n",
    "    print(\"positive\")\n",
    "else:\n",
    "    print(\"negative\")"
   ]
  },
  {
   "cell_type": "code",
   "execution_count": 1,
   "id": "edea890a",
   "metadata": {},
   "outputs": [
    {
     "name": "stdout",
     "output_type": "stream",
     "text": [
      "Enter salary: 1500\n",
      "Gross Salary is :  3470.0\n"
     ]
    }
   ],
   "source": [
    "#7\n",
    "s=eval(input(\"Enter salary: \"))\n",
    "if(s<1500):\n",
    "    ts=s+0.1*s+0.9*s\n",
    "else:\n",
    "    ts=s+500+0.98*s\n",
    "print(\"Gross Salary is : \",ts)\n",
    "    \n"
   ]
  },
  {
   "cell_type": "code",
   "execution_count": 14,
   "id": "22639597",
   "metadata": {},
   "outputs": [
    {
     "name": "stdout",
     "output_type": "stream",
     "text": [
      "Enter any number: 5\n",
      "5 is positive\n"
     ]
    }
   ],
   "source": [
    "#9\n",
    "n=int(input(\"Enter any number: \"))\n",
    "flag=False\n",
    "if(n>0):\n",
    "    flag=True\n",
    "    print(f\"{n*n} is positive\")\n",
    "elif(n<0):\n",
    "    flag=True\n",
    "    print(f\"{n**3} is negative\")\n",
    "else:\n",
    "    flag=False\n"
   ]
  },
  {
   "cell_type": "code",
   "execution_count": 17,
   "id": "bc075daa",
   "metadata": {},
   "outputs": [
    {
     "name": "stdout",
     "output_type": "stream",
     "text": [
      "enter year year to check it is leap year or not: 100\n",
      "Not a Leap year\n"
     ]
    }
   ],
   "source": [
    "#10\n",
    "y=int(input(\"enter year year to check it is leap year or not: \"))\n",
    "if(y%4==0 and y%100!=0) or (y%400==0):\n",
    "    print(\"Leap Year\")\n",
    "else:\n",
    "    print(\"Not a Leap year\")\n",
    "    "
   ]
  },
  {
   "cell_type": "code",
   "execution_count": 18,
   "id": "494ab4db",
   "metadata": {},
   "outputs": [],
   "source": [
    "\n",
    "#10\n",
    "a=int(input(\"Enter year to check for leap yeaar\"))\n",
    "if(a%100!=0):\n",
    "    if(a%4==0):\n",
    "        print(f\"{a} is leap year\")\n",
    "elif(a%400==0):\n",
    "    print(f\"{a} is leap year\")\n",
    "else:\n",
    "    print(f\"{a} is not leap year\")\n"
   ]
  },
  {
   "cell_type": "code",
   "execution_count": null,
   "id": "84881fac",
   "metadata": {},
   "outputs": [],
   "source": []
  }
 ],
 "metadata": {
  "kernelspec": {
   "display_name": "Python 3 (ipykernel)",
   "language": "python",
   "name": "python3"
  },
  "language_info": {
   "codemirror_mode": {
    "name": "ipython",
    "version": 3
   },
   "file_extension": ".py",
   "mimetype": "text/x-python",
   "name": "python",
   "nbconvert_exporter": "python",
   "pygments_lexer": "ipython3",
   "version": "3.10.4"
  },
  "vscode": {
   "interpreter": {
    "hash": "fbc768028c3e6ead51d9a200ddcb2ec858ae62844dcd1994729a8279be9b48f2"
   }
  }
 },
 "nbformat": 4,
 "nbformat_minor": 5
}
