{
 "cells": [
  {
   "cell_type": "code",
   "execution_count": 4,
   "id": "2e79d3c3",
   "metadata": {},
   "outputs": [
    {
     "name": "stdout",
     "output_type": "stream",
     "text": [
      "     *\n",
      "    ***\n",
      "   *****\n",
      "  *******\n",
      "   *****\n",
      "    ***\n",
      "     *\n"
     ]
    }
   ],
   "source": [
    "# 7th pattern\n",
    "for i in range(4):\n",
    "    print(\" \"*(4-i),\"*\"*(2*i+1))\n",
    "for j in range(2,-1,-1):\n",
    "          print(\" \"*(4-j),\"*\"*(2*j+1))"
   ]
  },
  {
   "cell_type": "code",
   "execution_count": 14,
   "id": "75ede476",
   "metadata": {},
   "outputs": [
    {
     "name": "stdout",
     "output_type": "stream",
     "text": [
      "Enter string: Computer\n",
      "The length of string is :  8\n"
     ]
    }
   ],
   "source": [
    "#1 Write a Python program to accept a string from user and find out the length of the given string.\n",
    "a=input(\"Enter string: \")\n",
    "print(\"The length of string is : \",len(a))"
   ]
  },
  {
   "cell_type": "code",
   "execution_count": 9,
   "id": "e03a0fd0",
   "metadata": {},
   "outputs": [
    {
     "name": "stdout",
     "output_type": "stream",
     "text": [
      "Enter first word: computer\n",
      "Enter Second word: Network\n",
      "computer Network\n"
     ]
    }
   ],
   "source": [
    "#2 Accept two words as input and print the two words after adding a space between them.\n",
    "a=input(\"Enter first word: \")\n",
    "b=input(\"Enter Second word: \")\n",
    "c=a+\" \"+b\n",
    "print(c)"
   ]
  },
  {
   "cell_type": "code",
   "execution_count": 13,
   "id": "992091e4",
   "metadata": {},
   "outputs": [
    {
     "name": "stdout",
     "output_type": "stream",
     "text": [
      "Enter the string : Computer\n",
      "String is :  Computer\n",
      "Enter substring you wish to check is present: put\n",
      "Present\n"
     ]
    }
   ],
   "source": [
    "#3 To check a substring is present in a given string or not\n",
    "a=input(\"Enter the string : \")\n",
    "print(\"String is : \",a)\n",
    "b=input(\"Enter substring you wish to check is present: \")\n",
    "if b in a:\n",
    "    print(\"Present\")\n",
    "else:\n",
    "    print(\"Not present\")\n"
   ]
  },
  {
   "cell_type": "code",
   "execution_count": 27,
   "id": "ecf41ef5",
   "metadata": {},
   "outputs": [
    {
     "name": "stdout",
     "output_type": "stream",
     "text": [
      "Enter a string: Computer\n",
      "Enter chracter till you want the string: p\n",
      "Comp\n"
     ]
    }
   ],
   "source": [
    "#4 Accept a string and display a string upto a particular character.\n",
    "a= input(\"Enter a string: \")\n",
    "b=input(\"Enter chracter till you want the string: \")\n",
    "if b in a:\n",
    "    for i in a:\n",
    "        if(i==b):\n",
    "            print(i)\n",
    "            break\n",
    "        else:\n",
    "            print(i,end=\"\")\n",
    "else:\n",
    "    print(\"Invalid Chracter\")"
   ]
  },
  {
   "cell_type": "code",
   "execution_count": 38,
   "id": "d76501e2",
   "metadata": {},
   "outputs": [
    {
     "name": "stdout",
     "output_type": "stream",
     "text": [
      "Enter a string : Computer\n",
      "The no of vowels in Computer is : 3\n"
     ]
    }
   ],
   "source": [
    "#5 Accept a string and count the total number of vowels in the existing string.\n",
    "a=input(\"Enter a string : \")\n",
    "v=\"aeiouAEIOU\"\n",
    "cv=0\n",
    "for i in v:\n",
    "    cv+=a.count(i)\n",
    "print(f\"The no of vowels in {a} is : {cv}\")"
   ]
  },
  {
   "cell_type": "code",
   "execution_count": 6,
   "id": "e62895a5",
   "metadata": {},
   "outputs": [
    {
     "name": "stdout",
     "output_type": "stream",
     "text": [
      "Enter string: ComPUter\n",
      "cemoprtu\n"
     ]
    }
   ],
   "source": [
    "#6Accept a string as input, convert it to lower case, sort the string in alphabetical order, and print the\n",
    "# sorted string to the console. You can assume that the string will only contain letters. for example:\n",
    "# Bharatanatyam->aaaaabhmnrtty.\n",
    "a=input(\"Enter string: \")\n",
    "a=a.lower()\n",
    "c=''.join(sorted(a))\n",
    "print(c)\n",
    "    "
   ]
  },
  {
   "cell_type": "code",
   "execution_count": 15,
   "id": "7af4a0e9",
   "metadata": {},
   "outputs": [
    {
     "name": "stdout",
     "output_type": "stream",
     "text": [
      "Enter phone number: 9836425346\n",
      "Valid\n"
     ]
    }
   ],
   "source": [
    "#7 Accept a phone number as input. A valid phone number should satisfy the following constraints.\n",
    "# (1) The number should start with one of these digits: 6, 7, 8, 9\n",
    "# (2) The number should be exactly 10 digits long.\n",
    "# (3) No digit should appear more than 7 times in the number.\n",
    "# Print the string valid if the phone number is valid. If not, print the string invalid.\n",
    "a=input(\"Enter phone number: \")\n",
    "i=[6,7,8,9]\n",
    "if a[0] in a:\n",
    "    if(len(a)==10):\n",
    "        for j in a:\n",
    "            if(a.count(j)>7):\n",
    "                print(\"Digit can't be repeated more than 7 times\")\n",
    "                break\n",
    "        else:\n",
    "            print(\"Valid\")\n",
    "    else:\n",
    "        print(\"Length should be equal to 10\")\n",
    "else:\n",
    "    print(\"First no should start with 6 or 7 or 8 or 9\")"
   ]
  },
  {
   "cell_type": "code",
   "execution_count": 10,
   "id": "49247732",
   "metadata": {},
   "outputs": [
    {
     "name": "stdout",
     "output_type": "stream",
     "text": [
      "Enter string: abcba\n",
      "String is palindrome\n"
     ]
    }
   ],
   "source": [
    "#8 Write a Python program to check if a string is palindrome or not.\n",
    "a=input(\"Enter string: \")\n",
    "b=a[::-1]\n",
    "if(a==b):\n",
    "    print(\"String is palindrome\")\n",
    "else:\n",
    "    print(\"String is not palindrome\")"
   ]
  },
  {
   "cell_type": "code",
   "execution_count": 16,
   "id": "005b5010",
   "metadata": {},
   "outputs": [
    {
     "name": "stdout",
     "output_type": "stream",
     "text": [
      "Enter the string: I am best\n",
      "best am I\n"
     ]
    }
   ],
   "source": [
    "#9 Write a Python program to reverse words in a given String in Python.\n",
    "a=input(\"Enter the string: \")\n",
    "b=a.split()[::-1]\n",
    "b=\" \".join(b)\n",
    "print(b)"
   ]
  },
  {
   "cell_type": "code",
   "execution_count": 13,
   "id": "7cf8dc63",
   "metadata": {},
   "outputs": [
    {
     "name": "stdout",
     "output_type": "stream",
     "text": [
      "Enter the string: Computer\n",
      "Enter chracter you want to remove: u\n",
      "Compter\n"
     ]
    }
   ],
   "source": [
    "#10 . Write a Python program to remove a particular character from string in Python\n",
    "a=input(\"Enter the string: \")\n",
    "b=input(\"Enter chracter you want to remove: \")\n",
    "if b in a:\n",
    "    a=a.replace(b,'',1)\n",
    "else:\n",
    "    print(f\"Chracter '{b}' not present in string\")\n",
    "print(a)\n"
   ]
  }
 ],
 "metadata": {
  "kernelspec": {
   "display_name": "Python 3 (ipykernel)",
   "language": "python",
   "name": "python3"
  },
  "language_info": {
   "codemirror_mode": {
    "name": "ipython",
    "version": 3
   },
   "file_extension": ".py",
   "mimetype": "text/x-python",
   "name": "python",
   "nbconvert_exporter": "python",
   "pygments_lexer": "ipython3",
   "version": "3.10.4"
  }
 },
 "nbformat": 4,
 "nbformat_minor": 5
}
